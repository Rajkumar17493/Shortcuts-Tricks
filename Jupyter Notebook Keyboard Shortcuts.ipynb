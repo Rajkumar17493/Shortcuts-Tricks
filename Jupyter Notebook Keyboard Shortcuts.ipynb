{
 "cells": [
  {
   "cell_type": "markdown",
   "id": "9380e4ea",
   "metadata": {},
   "source": [
    "## Jupyter Notebook Keyboard Shortcuts"
   ]
  },
  {
   "cell_type": "markdown",
   "id": "d480f530",
   "metadata": {},
   "source": [
    "* **M** - To change the current cell to Markdown"
   ]
  },
  {
   "cell_type": "markdown",
   "id": "53bf91d1",
   "metadata": {},
   "source": [
    "* **Y** - To change it back from Markdown to code"
   ]
  },
  {
   "cell_type": "markdown",
   "id": "214d9a2e",
   "metadata": {},
   "source": [
    "* **A** - Create new cell above current cell"
   ]
  },
  {
   "cell_type": "markdown",
   "id": "2b03f473",
   "metadata": {},
   "source": [
    "* **B** - Create new cell below current cell"
   ]
  },
  {
   "cell_type": "markdown",
   "id": "3ec181e0",
   "metadata": {},
   "source": [
    "* **Esc** - take you into command mode (To exit out of current cell) where you can navigate around your notebook "
   ]
  },
  {
   "cell_type": "markdown",
   "id": "63a6128a",
   "metadata": {},
   "source": [
    "* **Enter** - take you into edit mode from command mode"
   ]
  },
  {
   "cell_type": "markdown",
   "id": "c5b2430b",
   "metadata": {},
   "source": [
    "* **D + D** (press D twice) - to delete the current cell"
   ]
  },
  {
   "cell_type": "markdown",
   "id": "4ed0944e",
   "metadata": {},
   "source": [
    "* **Shift + Tab** - Will show you the DocString (Documentation) for the object you have just typed in a code cell."
   ]
  },
  {
   "cell_type": "markdown",
   "id": "126ab7a2",
   "metadata": {},
   "source": [
    "* **Control + Shift + -** - Will split the current cell into two from where your cursor is."
   ]
  },
  {
   "cell_type": "markdown",
   "id": "3c846116",
   "metadata": {},
   "source": [
    "* **Esc + F** - find and replace on your code but not the output"
   ]
  },
  {
   "cell_type": "markdown",
   "id": "bcf57594",
   "metadata": {},
   "source": [
    "* **Esc + O** - Toggle cell output."
   ]
  },
  {
   "cell_type": "markdown",
   "id": "7e6e39fc",
   "metadata": {},
   "source": [
    "* **Shift + Down** - select the next cells in a downwards direction"
   ]
  },
  {
   "cell_type": "markdown",
   "id": "97f0da91",
   "metadata": {},
   "source": [
    "* **Shift + Up** - select the next cells in a upwards direction"
   ]
  },
  {
   "cell_type": "markdown",
   "id": "17194127",
   "metadata": {},
   "source": [
    "* **Shift + M** - Merge Multiple Cells"
   ]
  },
  {
   "cell_type": "markdown",
   "id": "f04570e6",
   "metadata": {},
   "source": [
    "# Heading 1 - Type 1"
   ]
  },
  {
   "cell_type": "markdown",
   "id": "87b44e65",
   "metadata": {},
   "source": [
    "## Heading 2 - Type 2"
   ]
  },
  {
   "cell_type": "markdown",
   "id": "f5dc7e8e",
   "metadata": {},
   "source": [
    "### Heading 3 -  Type 3"
   ]
  },
  {
   "cell_type": "markdown",
   "id": "4df85580",
   "metadata": {},
   "source": [
    "#### Heading 4 -  Type 4"
   ]
  },
  {
   "cell_type": "markdown",
   "id": "1ade30d8",
   "metadata": {},
   "source": [
    "##### Heading 5 - Type 5"
   ]
  },
  {
   "cell_type": "markdown",
   "id": "1f8e68bc",
   "metadata": {},
   "source": [
    "###### Heading 6 - Type 6"
   ]
  }
 ],
 "metadata": {
  "kernelspec": {
   "display_name": "Python 3 (ipykernel)",
   "language": "python",
   "name": "python3"
  },
  "language_info": {
   "codemirror_mode": {
    "name": "ipython",
    "version": 3
   },
   "file_extension": ".py",
   "mimetype": "text/x-python",
   "name": "python",
   "nbconvert_exporter": "python",
   "pygments_lexer": "ipython3",
   "version": "3.9.7"
  }
 },
 "nbformat": 4,
 "nbformat_minor": 5
}
